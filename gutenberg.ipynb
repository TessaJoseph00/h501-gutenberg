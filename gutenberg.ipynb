{
 "cells": [
  {
   "cell_type": "code",
   "execution_count": 2,
   "id": "ee9f0743-090d-4a10-9cbb-7933c1db5552",
   "metadata": {},
   "outputs": [
    {
     "name": "stdout",
     "output_type": "stream",
     "text": [
      "hello\n"
     ]
    }
   ],
   "source": [
    "print(\"hello\")"
   ]
  },
  {
   "cell_type": "code",
   "execution_count": 4,
   "id": "aaab11e7-6fd5-4479-8e2b-517df1f665b1",
   "metadata": {},
   "outputs": [
    {
     "name": "stdout",
     "output_type": "stream",
     "text": [
      "ipykernel ✅ installed\n",
      "pandas ✅ installed\n",
      "seaborn ✅ installed\n"
     ]
    }
   ],
   "source": [
    "import importlib.util\n",
    "\n",
    "packages = [\"ipykernel\", \"pandas\", \"seaborn\"]\n",
    "for pkg in packages:\n",
    "    if importlib.util.find_spec(pkg) is not None:\n",
    "        print(f\"{pkg} ✅ installed\")\n",
    "    else:\n",
    "        print(f\"{pkg} ❌ NOT installed\")\n"
   ]
  },
  {
   "cell_type": "code",
   "execution_count": 3,
   "id": "b33a00d6-cee1-4bbe-a0c3-2be71ff8b3ba",
   "metadata": {},
   "outputs": [
    {
     "name": "stdout",
     "output_type": "stream",
     "text": [
      "\n",
      "# conda environments:\n",
      "#\n",
      "base                   C:\\ProgramData\\miniconda3\n",
      "ds_project             C:\\Users\\tessa\\.conda\\envs\\ds_project\n",
      "h501-gutenberg       * C:\\Users\\tessa\\.conda\\envs\\h501-gutenberg\n",
      "myenv                  C:\\Users\\tessa\\.conda\\envs\\myenv\n",
      "\n",
      "\n",
      "Note: you may need to restart the kernel to use updated packages.\n"
     ]
    }
   ],
   "source": [
    "conda env list"
   ]
  },
  {
   "cell_type": "code",
   "execution_count": 2,
   "id": "4c2f9881-d5d3-4953-99fa-dbbc5ac9ae21",
   "metadata": {},
   "outputs": [
    {
     "name": "stdout",
     "output_type": "stream",
     "text": [
      "\n",
      "# conda environments:\n",
      "#\n",
      "base                   C:\\ProgramData\\miniconda3\n",
      "ds_project             C:\\Users\\tessa\\.conda\\envs\\ds_project\n",
      "h501-gutenberg       * C:\\Users\\tessa\\.conda\\envs\\h501-gutenberg\n",
      "myenv                  C:\\Users\\tessa\\.conda\\envs\\myenv\n",
      "\n"
     ]
    }
   ],
   "source": [
    "!conda env list"
   ]
  },
  {
   "cell_type": "code",
   "execution_count": 1,
   "id": "7cd57fc4-7e85-4c49-b970-a3d6926ade6d",
   "metadata": {},
   "outputs": [
    {
     "name": "stdout",
     "output_type": "stream",
     "text": [
      "Python 3.11.13\n",
      "C:\\Users\\tessa\\.conda\\envs\\h501-gutenberg\\python.exe\n",
      "C:\\Users\\tessa\\AppData\\Local\\Microsoft\\WindowsApps\\python.exe\n"
     ]
    }
   ],
   "source": [
    "!python -V\n",
    "!where python"
   ]
  }
 ],
 "metadata": {
  "kernelspec": {
   "display_name": "Python 3 (ipykernel)",
   "language": "python",
   "name": "python3"
  },
  "language_info": {
   "codemirror_mode": {
    "name": "ipython",
    "version": 3
   },
   "file_extension": ".py",
   "mimetype": "text/x-python",
   "name": "python",
   "nbconvert_exporter": "python",
   "pygments_lexer": "ipython3",
   "version": "3.11.13"
  }
 },
 "nbformat": 4,
 "nbformat_minor": 5
}

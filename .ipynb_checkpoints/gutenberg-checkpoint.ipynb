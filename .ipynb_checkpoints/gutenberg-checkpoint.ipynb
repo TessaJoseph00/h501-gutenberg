{
 "cells": [
  {
   "cell_type": "code",
   "execution_count": 1,
   "id": "1426c40a-9998-429c-bed7-b88377301aec",
   "metadata": {},
   "outputs": [
    {
     "name": "stdout",
     "output_type": "stream",
     "text": [
      "Python 3.11.13\n",
      "C:\\Users\\tessa\\.conda\\envs\\h501-gutenberg\\python.exe\n",
      "C:\\Users\\tessa\\AppData\\Local\\Microsoft\\WindowsApps\\python.exe\n"
     ]
    }
   ],
   "source": [
    "!python -V\n",
    "!where python"
   ]
  },
  {
   "cell_type": "code",
   "execution_count": 2,
   "id": "4c2f9881-d5d3-4953-99fa-dbbc5ac9ae21",
   "metadata": {},
   "outputs": [
    {
     "name": "stdout",
     "output_type": "stream",
     "text": [
      "\n",
      "# conda environments:\n",
      "#\n",
      "base                   C:\\ProgramData\\miniconda3\n",
      "ds_project             C:\\Users\\tessa\\.conda\\envs\\ds_project\n",
      "h501-gutenberg       * C:\\Users\\tessa\\.conda\\envs\\h501-gutenberg\n",
      "myenv                  C:\\Users\\tessa\\.conda\\envs\\myenv\n",
      "\n"
     ]
    }
   ],
   "source": [
    "!conda env list"
   ]
  },
  {
   "cell_type": "code",
   "execution_count": 34,
   "id": "7cd57fc4-7e85-4c49-b970-a3d6926ade6d",
   "metadata": {},
   "outputs": [
    {
     "ename": "NameError",
     "evalue": "name 'authors_df' is not defined",
     "output_type": "error",
     "traceback": [
      "\u001b[31m---------------------------------------------------------------------------\u001b[39m",
      "\u001b[31mNameError\u001b[39m                                 Traceback (most recent call last)",
      "\u001b[36mCell\u001b[39m\u001b[36m \u001b[39m\u001b[32mIn[34]\u001b[39m\u001b[32m, line 4\u001b[39m\n\u001b[32m      1\u001b[39m \u001b[38;5;28;01mfrom\u001b[39;00m\u001b[38;5;250m \u001b[39m\u001b[34;01mtt_gutenberg\u001b[39;00m\u001b[34;01m.\u001b[39;00m\u001b[34;01mauthors\u001b[39;00m\u001b[38;5;250m \u001b[39m\u001b[38;5;28;01mimport\u001b[39;00m list_authors\n\u001b[32m      3\u001b[39m \u001b[38;5;66;03m# Test the function\u001b[39;00m\n\u001b[32m----> \u001b[39m\u001b[32m4\u001b[39m \u001b[43mlist_authors\u001b[49m\u001b[43m(\u001b[49m\u001b[43m)\u001b[49m\n",
      "\u001b[36mFile \u001b[39m\u001b[32m~\\projects\\h501-gutenberg\\tt_gutenberg\\authors.py:10\u001b[39m, in \u001b[36mlist_authors\u001b[39m\u001b[34m(by_languages, alias, language_filter)\u001b[39m\n\u001b[32m      2\u001b[39m \u001b[38;5;250m\u001b[39m\u001b[33;03m\"\"\"\u001b[39;00m\n\u001b[32m      3\u001b[39m \u001b[33;03mReturns a list of authors, optionally including aliases and filtered by language.\u001b[39;00m\n\u001b[32m      4\u001b[39m \n\u001b[32m   (...)\u001b[39m\u001b[32m      7\u001b[39m \u001b[33;03mlanguage_filter: list of languages to filter by, e.g., ['en']\u001b[39;00m\n\u001b[32m      8\u001b[39m \u001b[33;03m\"\"\"\u001b[39;00m\n\u001b[32m      9\u001b[39m \u001b[38;5;66;03m# Copy authors_df\u001b[39;00m\n\u001b[32m---> \u001b[39m\u001b[32m10\u001b[39m df = \u001b[43mauthors_df\u001b[49m.copy()\n\u001b[32m     12\u001b[39m \u001b[38;5;66;03m# Include aliases if requested\u001b[39;00m\n\u001b[32m     13\u001b[39m \u001b[38;5;28;01mif\u001b[39;00m alias:\n",
      "\u001b[31mNameError\u001b[39m: name 'authors_df' is not defined"
     ]
    }
   ],
   "source": [
    "from tt_gutenberg.authors import list_authors\n",
    "\n",
    "# Test the function\n",
    "list_authors()"
   ]
  },
  {
   "cell_type": "code",
   "execution_count": 2,
   "id": "9c992d08-9ac6-434c-b701-5a5945b09171",
   "metadata": {},
   "outputs": [
    {
     "data": {
      "text/plain": [
       "'Helper function'"
      ]
     },
     "execution_count": 2,
     "metadata": {},
     "output_type": "execute_result"
    }
   ],
   "source": [
    "from tt_gutenberg.helper import sample_helper\n",
    "\n",
    "sample_helper()"
   ]
  },
  {
   "cell_type": "code",
   "execution_count": null,
   "id": "dcedc77d-007b-4d36-84c4-ba5490262585",
   "metadata": {},
   "outputs": [],
   "source": [
    "!pip install pandas"
   ]
  },
  {
   "cell_type": "code",
   "execution_count": 22,
   "id": "0117a4f9-63f5-44dc-8822-f82179dda317",
   "metadata": {},
   "outputs": [
    {
     "name": "stdout",
     "output_type": "stream",
     "text": [
      "   gutenberg_author_id            author                      alias  \\\n",
      "0                    1     United States                     U.S.A.   \n",
      "1                    3  Lincoln, Abraham                        NaN   \n",
      "2                    4    Henry, Patrick                        NaN   \n",
      "3                    5        Adam, Paul                        NaN   \n",
      "4                    7    Carroll, Lewis  Dodgson, Charles Lutwidge   \n",
      "\n",
      "   birthdate  deathdate                                          wikipedia  \\\n",
      "0        NaN        NaN        https://en.wikipedia.org/wiki/United_States   \n",
      "1     1809.0     1865.0      https://en.wikipedia.org/wiki/Abraham_Lincoln   \n",
      "2     1736.0     1799.0        https://en.wikipedia.org/wiki/Patrick_Henry   \n",
      "3     1849.0     1931.0  https://de.wikipedia.org/wiki/Paul_Adam_(Buchb...   \n",
      "4     1832.0     1898.0        https://en.wikipedia.org/wiki/Lewis_Carroll   \n",
      "\n",
      "                                            aliases  \n",
      "0                                            U.S.A.  \n",
      "1  United States President (1861-1865)/Lincoln, Abe  \n",
      "2                                               NaN  \n",
      "3                                               NaN  \n",
      "4                         Dodgson, Charles Lutwidge  \n",
      "   gutenberg_id language  total_languages\n",
      "0             1       en                1\n",
      "1             2       en                1\n",
      "2             3       en                1\n",
      "3             4       en                1\n",
      "4             5       en                1\n",
      "   gutenberg_id                                              title  \\\n",
      "0             1  The Declaration of Independence of the United ...   \n",
      "1             2  The United States Bill of Rights\\r\\nThe Ten Or...   \n",
      "2             3                John F. Kennedy's Inaugural Address   \n",
      "3             4  Lincoln's Gettysburg Address\\r\\nGiven November...   \n",
      "4             5                     The United States Constitution   \n",
      "\n",
      "                               author  gutenberg_author_id language  \\\n",
      "0                   Jefferson, Thomas               1638.0       en   \n",
      "1                       United States                  1.0       en   \n",
      "2  Kennedy, John F. (John Fitzgerald)               1666.0       en   \n",
      "3                    Lincoln, Abraham                  3.0       en   \n",
      "4                       United States                  1.0       en   \n",
      "\n",
      "                                 gutenberg_bookshelf  \\\n",
      "0  Politics/American Revolutionary War/United Sta...   \n",
      "1  Politics/American Revolutionary War/United Sta...   \n",
      "2    Browsing: History - American/Browsing: Politics   \n",
      "3  US Civil War/Browsing: History - American/Brow...   \n",
      "4  United States/Politics/American Revolutionary ...   \n",
      "\n",
      "                      rights  has_text  \n",
      "0  Public domain in the USA.      True  \n",
      "1  Public domain in the USA.      True  \n",
      "2  Public domain in the USA.      True  \n",
      "3  Public domain in the USA.      True  \n",
      "4  Public domain in the USA.      True  \n"
     ]
    }
   ],
   "source": [
    "import pandas as pd\n",
    "\n",
    "# Load the CSV files\n",
    "authors_df = pd.read_csv(\"gutenberg_authors.csv\")\n",
    "languages_df = pd.read_csv(\"gutenberg_languages.csv\")\n",
    "metadata_df = pd.read_csv(\"gutenberg_metadata.csv\")\n",
    "\n",
    "# Preview\n",
    "print(authors_df.head())\n",
    "print(languages_df.head())\n",
    "print(metadata_df.head())"
   ]
  },
  {
   "cell_type": "code",
   "execution_count": 28,
   "id": "59b43b5b-9a3c-49c7-af11-2968c4d85889",
   "metadata": {},
   "outputs": [
    {
     "name": "stdout",
     "output_type": "stream",
     "text": [
      "   gutenberg_author_id            author                      alias  \\\n",
      "0                    1     United States                     U.S.A.   \n",
      "1                    3  Lincoln, Abraham                        NaN   \n",
      "2                    4    Henry, Patrick                        NaN   \n",
      "3                    5        Adam, Paul                        NaN   \n",
      "4                    7    Carroll, Lewis  Dodgson, Charles Lutwidge   \n",
      "\n",
      "   birthdate  deathdate                                          wikipedia  \\\n",
      "0        NaN        NaN        https://en.wikipedia.org/wiki/United_States   \n",
      "1     1809.0     1865.0      https://en.wikipedia.org/wiki/Abraham_Lincoln   \n",
      "2     1736.0     1799.0        https://en.wikipedia.org/wiki/Patrick_Henry   \n",
      "3     1849.0     1931.0  https://de.wikipedia.org/wiki/Paul_Adam_(Buchb...   \n",
      "4     1832.0     1898.0        https://en.wikipedia.org/wiki/Lewis_Carroll   \n",
      "\n",
      "                                            aliases  \n",
      "0                                            U.S.A.  \n",
      "1  United States President (1861-1865)/Lincoln, Abe  \n",
      "2                                               NaN  \n",
      "3                                               NaN  \n",
      "4                         Dodgson, Charles Lutwidge  \n"
     ]
    }
   ],
   "source": [
    "authors_df = pd.read_csv(\"gutenberg_authors.csv\")\n",
    "languages_df = pd.read_csv(\"gutenberg_languages.csv\")\n",
    "metadata_df = pd.read_csv(\"gutenberg_metadata.csv\")\n",
    "\n",
    "print(authors_df.head())"
   ]
  },
  {
   "cell_type": "code",
   "execution_count": 29,
   "id": "797b8288-78c9-4bc2-951e-e2a69b675cb9",
   "metadata": {},
   "outputs": [
    {
     "name": "stdout",
     "output_type": "stream",
     "text": [
      "Index(['gutenberg_id', 'language', 'total_languages'], dtype='object')\n",
      "Index(['gutenberg_id', 'title', 'author', 'gutenberg_author_id', 'language',\n",
      "       'gutenberg_bookshelf', 'rights', 'has_text'],\n",
      "      dtype='object')\n",
      "Index(['gutenberg_author_id', 'author', 'alias', 'birthdate', 'deathdate',\n",
      "       'wikipedia', 'aliases'],\n",
      "      dtype='object')\n"
     ]
    }
   ],
   "source": [
    "print(languages_df.columns)\n",
    "print(metadata_df.columns)\n",
    "print(authors_df.columns)"
   ]
  },
  {
   "cell_type": "code",
   "execution_count": 30,
   "id": "b1528315-282b-4c52-b649-d56cfee22950",
   "metadata": {},
   "outputs": [
    {
     "name": "stdout",
     "output_type": "stream",
     "text": [
      "['gutenberg_id', 'language', 'total_languages']\n",
      "['en' 'la' 'es' 'de' 'fr' 'it' 'ja' 'zh' 'sv' 'da' 'cy' 'bg' 'pt' 'nl'\n",
      " 'el' 'he' 'ru' 'hu' 'ko' 'pl' 'fi' 'eo' 'enm' 'sa' 'ang' 'ale' 'yi' 'lt'\n",
      " 'nai' 'sr' 'no' 'ca' 'ro' 'nah' 'kha' 'cs' 'tl' 'is' 'myn' 'ilo' 'ia'\n",
      " 'ga' 'fur' 'af' 'kld' 'oc' 'nap' 'fy' 'ceb' 'gl' 'mi' 'nav' 'br' 'arp'\n",
      " 'iu' 'bgs' 'csb' 'gla' 'rmq' 'sl' 'te' 'oji' 'grc' 'ar' 'et' 'fa' 'sco'\n",
      " 'brx' 'bo' 'hai']\n"
     ]
    },
    {
     "ename": "NameError",
     "evalue": "name 'authors_df' is not defined",
     "output_type": "error",
     "traceback": [
      "\u001b[31m---------------------------------------------------------------------------\u001b[39m",
      "\u001b[31mNameError\u001b[39m                                 Traceback (most recent call last)",
      "\u001b[36mCell\u001b[39m\u001b[36m \u001b[39m\u001b[32mIn[30]\u001b[39m\u001b[32m, line 4\u001b[39m\n\u001b[32m      2\u001b[39m \u001b[38;5;28mprint\u001b[39m(\u001b[38;5;28mlist\u001b[39m(languages_df.columns))\n\u001b[32m      3\u001b[39m \u001b[38;5;28mprint\u001b[39m(languages_df[\u001b[33m'\u001b[39m\u001b[33mlanguage\u001b[39m\u001b[33m'\u001b[39m].unique())\n\u001b[32m----> \u001b[39m\u001b[32m4\u001b[39m \u001b[43mlist_authors\u001b[49m\u001b[43m(\u001b[49m\u001b[43mby_languages\u001b[49m\u001b[43m=\u001b[49m\u001b[38;5;28;43;01mTrue\u001b[39;49;00m\u001b[43m,\u001b[49m\u001b[43m \u001b[49m\u001b[43malias\u001b[49m\u001b[43m=\u001b[49m\u001b[38;5;28;43;01mTrue\u001b[39;49;00m\u001b[43m,\u001b[49m\u001b[43m \u001b[49m\u001b[43mlanguage_filter\u001b[49m\u001b[43m=\u001b[49m\u001b[43m[\u001b[49m\u001b[33;43m'\u001b[39;49m\u001b[33;43men\u001b[39;49m\u001b[33;43m'\u001b[39;49m\u001b[43m]\u001b[49m\u001b[43m)\u001b[49m\n",
      "\u001b[36mFile \u001b[39m\u001b[32m~\\projects\\h501-gutenberg\\tt_gutenberg\\authors.py:10\u001b[39m, in \u001b[36mlist_authors\u001b[39m\u001b[34m(by_languages, alias, language_filter)\u001b[39m\n\u001b[32m      2\u001b[39m \u001b[38;5;250m\u001b[39m\u001b[33;03m\"\"\"\u001b[39;00m\n\u001b[32m      3\u001b[39m \u001b[33;03mReturns a list of authors, optionally including aliases and filtered by language.\u001b[39;00m\n\u001b[32m      4\u001b[39m \n\u001b[32m   (...)\u001b[39m\u001b[32m      7\u001b[39m \u001b[33;03mlanguage_filter: list of languages to filter by, e.g., ['en']\u001b[39;00m\n\u001b[32m      8\u001b[39m \u001b[33;03m\"\"\"\u001b[39;00m\n\u001b[32m      9\u001b[39m \u001b[38;5;66;03m# Copy authors_df\u001b[39;00m\n\u001b[32m---> \u001b[39m\u001b[32m10\u001b[39m df = \u001b[43mauthors_df\u001b[49m.copy()\n\u001b[32m     12\u001b[39m \u001b[38;5;66;03m# Include aliases if requested\u001b[39;00m\n\u001b[32m     13\u001b[39m \u001b[38;5;28;01mif\u001b[39;00m alias:\n",
      "\u001b[31mNameError\u001b[39m: name 'authors_df' is not defined"
     ]
    }
   ],
   "source": [
    "# Show all column names exactly as Python sees them\n",
    "print(list(languages_df.columns))\n",
    "print(languages_df['language'].unique())\n",
    "list_authors(by_languages=True, alias=True, language_filter=['en'])"
   ]
  },
  {
   "cell_type": "code",
   "execution_count": 33,
   "id": "16ead5b4-7e8e-4208-9cdf-6ad9eaa277c7",
   "metadata": {},
   "outputs": [
    {
     "ename": "NameError",
     "evalue": "name 'authors_df' is not defined",
     "output_type": "error",
     "traceback": [
      "\u001b[31m---------------------------------------------------------------------------\u001b[39m",
      "\u001b[31mNameError\u001b[39m                                 Traceback (most recent call last)",
      "\u001b[36mCell\u001b[39m\u001b[36m \u001b[39m\u001b[32mIn[33]\u001b[39m\u001b[32m, line 4\u001b[39m\n\u001b[32m      1\u001b[39m \u001b[38;5;28;01mfrom\u001b[39;00m\u001b[38;5;250m \u001b[39m\u001b[34;01mtt_gutenberg\u001b[39;00m\u001b[34;01m.\u001b[39;00m\u001b[34;01mauthors\u001b[39;00m\u001b[38;5;250m \u001b[39m\u001b[38;5;28;01mimport\u001b[39;00m list_authors\n\u001b[32m      3\u001b[39m \u001b[38;5;66;03m# 1. All authors\u001b[39;00m\n\u001b[32m----> \u001b[39m\u001b[32m4\u001b[39m \u001b[38;5;28mprint\u001b[39m(\u001b[43mlist_authors\u001b[49m\u001b[43m(\u001b[49m\u001b[43m)\u001b[49m)\n\u001b[32m      6\u001b[39m \u001b[38;5;66;03m# 2. Authors with aliases\u001b[39;00m\n\u001b[32m      7\u001b[39m \u001b[38;5;28mprint\u001b[39m(list_authors(alias=\u001b[38;5;28;01mTrue\u001b[39;00m))\n",
      "\u001b[36mFile \u001b[39m\u001b[32m~\\projects\\h501-gutenberg\\tt_gutenberg\\authors.py:10\u001b[39m, in \u001b[36mlist_authors\u001b[39m\u001b[34m(by_languages, alias, language_filter)\u001b[39m\n\u001b[32m      2\u001b[39m \u001b[38;5;250m\u001b[39m\u001b[33;03m\"\"\"\u001b[39;00m\n\u001b[32m      3\u001b[39m \u001b[33;03mReturns a list of authors, optionally including aliases and filtered by language.\u001b[39;00m\n\u001b[32m      4\u001b[39m \n\u001b[32m   (...)\u001b[39m\u001b[32m      7\u001b[39m \u001b[33;03mlanguage_filter: list of languages to filter by, e.g., ['en']\u001b[39;00m\n\u001b[32m      8\u001b[39m \u001b[33;03m\"\"\"\u001b[39;00m\n\u001b[32m      9\u001b[39m \u001b[38;5;66;03m# Copy authors_df\u001b[39;00m\n\u001b[32m---> \u001b[39m\u001b[32m10\u001b[39m df = \u001b[43mauthors_df\u001b[49m.copy()\n\u001b[32m     12\u001b[39m \u001b[38;5;66;03m# Include aliases if requested\u001b[39;00m\n\u001b[32m     13\u001b[39m \u001b[38;5;28;01mif\u001b[39;00m alias:\n",
      "\u001b[31mNameError\u001b[39m: name 'authors_df' is not defined"
     ]
    }
   ],
   "source": [
    "from tt_gutenberg.authors import list_authors\n",
    "\n",
    "# 1. All authors\n",
    "print(list_authors())\n",
    "\n",
    "# 2. Authors with aliases\n",
    "print(list_authors(alias=True))\n",
    "\n",
    "# 3. Authors with aliases who wrote English books\n",
    "print(list_authors(by_languages=True, alias=True, language_filter=['en']))"
   ]
  }
 ],
 "metadata": {
  "kernelspec": {
   "display_name": "Python (h501-gutenberg)",
   "language": "python",
   "name": "h501-gutenberg"
  },
  "language_info": {
   "codemirror_mode": {
    "name": "ipython",
    "version": 3
   },
   "file_extension": ".py",
   "mimetype": "text/x-python",
   "name": "python",
   "nbconvert_exporter": "python",
   "pygments_lexer": "ipython3",
   "version": "3.11.13"
  }
 },
 "nbformat": 4,
 "nbformat_minor": 5
}

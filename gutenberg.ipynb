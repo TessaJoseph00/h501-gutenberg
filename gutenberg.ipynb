{
 "cells": [
  {
   "cell_type": "code",
   "execution_count": 1,
   "id": "4c2f9881-d5d3-4953-99fa-dbbc5ac9ae21",
   "metadata": {},
   "outputs": [
    {
     "name": "stdout",
     "output_type": "stream",
     "text": [
      "\n",
      "# conda environments:\n",
      "#\n",
      "base                   C:\\ProgramData\\miniconda3\n",
      "ds_project             C:\\Users\\tessa\\.conda\\envs\\ds_project\n",
      "h501-gutenberg       * C:\\Users\\tessa\\.conda\\envs\\h501-gutenberg\n",
      "myenv                  C:\\Users\\tessa\\.conda\\envs\\myenv\n",
      "\n"
     ]
    }
   ],
   "source": [
    "!conda env list"
   ]
  },
  {
   "cell_type": "code",
   "execution_count": 9,
   "id": "c989816b-21ae-4f70-a7f8-04dd64d43b0a",
   "metadata": {},
   "outputs": [
    {
     "name": "stdout",
     "output_type": "stream",
     "text": [
      "ALL AUTHORS:\n"
     ]
    },
    {
     "data": {
      "text/plain": [
       "['United States',\n",
       " 'Lincoln, Abraham',\n",
       " 'Henry, Patrick',\n",
       " 'Adam, Paul',\n",
       " 'Carroll, Lewis',\n",
       " 'United States. Central Intelligence Agency',\n",
       " 'Melville, Herman',\n",
       " 'Barrie, J. M. (James Matthew)',\n",
       " 'Church of Jesus Christ of Latter-day Saints',\n",
       " 'Smith, Joseph, Jr.',\n",
       " 'Hamilton, Alexander',\n",
       " 'Madison, James',\n",
       " 'Jay, John',\n",
       " 'Longfellow, Henry Wadsworth',\n",
       " 'Milton, John',\n",
       " 'Aesop',\n",
       " 'Townsend, George Fyler',\n",
       " 'Roget, Peter Mark',\n",
       " 'Cather, Willa',\n",
       " 'Hardy, Thomas',\n",
       " 'United States. Bureau of the Census',\n",
       " 'Sophocles',\n",
       " 'Gilman, Charlotte Perkins',\n",
       " 'Hawthorne, Nathaniel',\n",
       " 'Kehoe, Brendan P.',\n",
       " 'Wells, H. G. (Herbert George)',\n",
       " 'Krol, Ed',\n",
       " 'Kochmer, Jonathan',\n",
       " 'Irving, Washington',\n",
       " 'Stevenson, Robert Louis',\n",
       " 'Montgomery, L. M. (Lucy Maud)',\n",
       " 'Dickens, Charles',\n",
       " 'Polly, Jean Armour',\n",
       " 'Hemphill, Scott',\n",
       " 'Kerr, Stan',\n",
       " 'Library of Congress',\n",
       " 'Baum, L. Frank (Lyman Frank)',\n",
       " 'Descartes, René',\n",
       " 'Orczy, Emmuska Orczy, Baroness',\n",
       " 'Marx, Karl',\n",
       " 'Engels, Friedrich',\n",
       " 'Burroughs, Edgar Rice',\n",
       " 'Unknown',\n",
       " 'Joly, Norman F.',\n",
       " 'Coombs, Norman',\n",
       " 'Slowinski, David',\n",
       " 'Twain, Mark',\n",
       " 'Thoreau, Henry David',\n",
       " 'Crane, Stephen',\n",
       " 'Goodwin, John E.']"
      ]
     },
     "execution_count": 9,
     "metadata": {},
     "output_type": "execute_result"
    }
   ],
   "source": [
    "from tt_gutenberg.authors import list_authors\n",
    "\n",
    "# Output 1: All authors (unsorted, no aliases)\n",
    "print(\"ALL AUTHORS:\")\n",
    "#printing first 50 entries\n",
    "list1 = list_authors()\n",
    "list1[:50] \n",
    "#to print all entries\n",
    "#print(list_authors())"
   ]
  },
  {
   "cell_type": "code",
   "execution_count": 10,
   "id": "b1528315-282b-4c52-b649-d56cfee22950",
   "metadata": {},
   "outputs": [
    {
     "name": "stdout",
     "output_type": "stream",
     "text": [
      "\n",
      "AUTHORS WITH ALIASES:\n"
     ]
    },
    {
     "data": {
      "text/plain": [
       "['U.S.A.',\n",
       " 'Dodgson, Charles Lutwidge',\n",
       " 'Melville, Hermann',\n",
       " 'Smith, Joseph',\n",
       " 'United States President (1809-1817)',\n",
       " 'Jay, J. (John)',\n",
       " 'Longfellow, Henry W.',\n",
       " 'Townsend, George Tyler',\n",
       " 'Wells, Herbert George',\n",
       " 'Crayon, Geoffrey',\n",
       " 'Stevenson, R. L. (Robert Louis)',\n",
       " 'Descartes, Rene',\n",
       " 'Engels, Frederick',\n",
       " 'Thoreau, Henry D. (Henry David)',\n",
       " 'Smith, Johnston',\n",
       " 'Presno, Odd de',\n",
       " 'Hawkins, Anthony Hope',\n",
       " 'Tenniel, Sir John',\n",
       " 'EFF',\n",
       " 'Lang, Walter Andrew',\n",
       " 'Bunyan, Johann',\n",
       " 'Doumic, Rene',\n",
       " 'Pain, Thomas',\n",
       " 'Πλάτων',\n",
       " 'Coleridge, S. T. (Samuel Taylor)',\n",
       " 'Collins, William Wilkie',\n",
       " 'Norris, Benjamin Franklin',\n",
       " 'Humphrey, Samuel Dwight',\n",
       " 'Snelling, H. H. (Henry Hunt)',\n",
       " 'Morris, William M.',\n",
       " 'Morley, Christopher Darlington',\n",
       " 'Ward, Arthur Sarsfield',\n",
       " \"Wilde, Oscar Fingal O'Flahertie Wills\",\n",
       " 'Gutenberg, Project',\n",
       " 'Service, Robert William',\n",
       " 'Lawson, Henry Archibald Hertzberg',\n",
       " 'Chaney, John Griffith',\n",
       " 'Propertius, Sextus Aurelius',\n",
       " 'Harris, Robert A., Ph.D.',\n",
       " 'Purcell, Edward',\n",
       " 'CNI',\n",
       " 'Chaucer, Jeffrey',\n",
       " 'Kilmer, Alfred Joyce',\n",
       " 'Sewell, Ana',\n",
       " 'Kinglake, A. W. (Alexander William)',\n",
       " 'Cabell, Branch',\n",
       " 'Boyesen, Hjalmar H.',\n",
       " 'Gaboriau, Émile',\n",
       " 'Benet, Stephen Vincent',\n",
       " 'Raleigh, Sir Walter Alexander']"
      ]
     },
     "execution_count": 10,
     "metadata": {},
     "output_type": "execute_result"
    }
   ],
   "source": [
    "# Output 2: Authors with aliases\n",
    "print(\"\\nAUTHORS WITH ALIASES:\")\n",
    "#printing first 50 entries\n",
    "list2 = list_authors(alias=True)\n",
    "list2[:50] \n",
    "#to print all entries\n",
    "#print(list_authors(alias=True))"
   ]
  },
  {
   "cell_type": "code",
   "execution_count": 11,
   "id": "4ec2d901-c599-46f9-813d-4bad4306b87f",
   "metadata": {},
   "outputs": [
    {
     "name": "stdout",
     "output_type": "stream",
     "text": [
      "\n",
      "ENGLISH AUTHORS WITH ALIASES SORTED BY TRANSLATION COUNT:\n"
     ]
    },
    {
     "data": {
      "text/plain": [
       "['U.S.A.',\n",
       " 'Richardson, M. A. (Merrick Abner)',\n",
       " 'Walters, Henry Beauchamp',\n",
       " 'Miller, Madeleine Sweeny',\n",
       " 'Prussia (Germany). Armee. Grosser Generalstab. Kriegsgeschichtliche Abteilung Zwei',\n",
       " 'Matthews, William Henry',\n",
       " 'Maule, Harry Edward',\n",
       " 'Paulton, Edward Antonio',\n",
       " 'Forbes, Robert Erstone',\n",
       " 'Company, Ford Motor',\n",
       " 'Burns, James',\n",
       " 'Potter, David',\n",
       " 'Camp, Samuel Granger',\n",
       " 'Auchincloss, William Stuart',\n",
       " 'Bonker, Frances Lucy',\n",
       " 'Thornber, John James',\n",
       " 'Wheeler, J. Talboys (James Talboys)',\n",
       " 'Fickett, Mary Grace',\n",
       " 'Turberville, A. S. (Arthur Stanley)',\n",
       " 'Labaree, Mary Schauffler',\n",
       " 'Buckstone, J. B. (John Baldwin)',\n",
       " 'Poole, H. M. (Hester Martha)',\n",
       " 'Howard, E. (Ebenezer), Sir',\n",
       " 'Collier, D. J. (Dorothy Josephine)',\n",
       " 'Sueur, Gordon Le',\n",
       " 'Daniels, Maybel W. (Maybel Wheeler)',\n",
       " 'Wood, Frances A.',\n",
       " 'Caulfeild, Edwin Vivian Stuart',\n",
       " 'Maynard, Charles Johnson',\n",
       " 'Bateman, James',\n",
       " 'Union Pacific Railroad and Telegraph Company',\n",
       " 'Craine, Edith Janice',\n",
       " 'Bell, Frederick McKelvey',\n",
       " 'Rhoads, S. N. (Samuel Nicholson)',\n",
       " 'Nathan, Annie',\n",
       " 'Smith, Goodwin B.',\n",
       " 'Greener, William Oliver',\n",
       " 'Samuelson, Levine Henrietta',\n",
       " 'Hill, Sir Rowland',\n",
       " 'Waters, Thomas',\n",
       " 'Sindall, Robert Walter',\n",
       " 'Boone, Cheshire L.',\n",
       " 'Manning, Emmerson W.',\n",
       " 'Kerlin, Robert T.',\n",
       " 'Benton, Caroline Rita',\n",
       " 'Kearton, R. (Richard)',\n",
       " 'Pence Davis, Anne',\n",
       " 'Lawley, Alethea Jane',\n",
       " 'Shaw, Leslie Mortier',\n",
       " 'Wheelock, Eleazer']"
      ]
     },
     "execution_count": 11,
     "metadata": {},
     "output_type": "execute_result"
    }
   ],
   "source": [
    "# Output 3: Authors with aliases who wrote in English, sorted by translation count\n",
    "print(\"\\nENGLISH AUTHORS WITH ALIASES SORTED BY TRANSLATION COUNT:\")\n",
    "#printing first 50 entries\n",
    "list3 = list_authors(by_languages=True, alias=True, language_filter=['en'])\n",
    "list3[:50] \n",
    "#to print all entries\n",
    "#print(list_authors(by_languages=True, alias=True, language_filter=['en']))"
   ]
  },
  {
   "cell_type": "code",
   "execution_count": null,
   "id": "e0f15044-c6e6-4d7e-94a0-e6f92e8c80ab",
   "metadata": {},
   "outputs": [],
   "source": []
  }
 ],
 "metadata": {
  "kernelspec": {
   "display_name": "Python (h501-gutenberg)",
   "language": "python",
   "name": "h501-gutenberg"
  },
  "language_info": {
   "codemirror_mode": {
    "name": "ipython",
    "version": 3
   },
   "file_extension": ".py",
   "mimetype": "text/x-python",
   "name": "python",
   "nbconvert_exporter": "python",
   "pygments_lexer": "ipython3",
   "version": "3.11.13"
  }
 },
 "nbformat": 4,
 "nbformat_minor": 5
}
